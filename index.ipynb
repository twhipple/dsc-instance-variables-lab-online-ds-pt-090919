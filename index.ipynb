{
 "cells": [
  {
   "cell_type": "markdown",
   "metadata": {},
   "source": [
    "# Instance Variables - Lab"
   ]
  },
  {
   "cell_type": "markdown",
   "metadata": {},
   "source": [
    "## Introduction\n",
    "In this lab, you'll practice using instance variables, which you use to store information about a particular instance object. You will continue to use our `fuber` theme and create some methods that operate on our instance variables to return some valuable information about the passenger and driver instance objects."
   ]
  },
  {
   "cell_type": "markdown",
   "metadata": {},
   "source": [
    "## Objectives\n",
    "\n",
    "You will be able to:\n",
    "\n",
    "* Define and call an instance method\n",
    "* Define and access instance attributes"
   ]
  },
  {
   "cell_type": "markdown",
   "metadata": {},
   "source": [
    "## Instructions"
   ]
  },
  {
   "cell_type": "markdown",
   "metadata": {},
   "source": [
    "Below, define classes for both a Driver and a Passenger -- for now just define the classes and remember to include the keyword `pass` so that you'll have valid syntax for our classes."
   ]
  },
  {
   "cell_type": "code",
   "execution_count": 28,
   "metadata": {},
   "outputs": [],
   "source": [
    "# Driver class\n",
    "class Driver(object):\n",
    "    pass"
   ]
  },
  {
   "cell_type": "code",
   "execution_count": 29,
   "metadata": {},
   "outputs": [],
   "source": [
    "# Passenger class\n",
    "class Passenger(object):\n",
    "    pass"
   ]
  },
  {
   "cell_type": "markdown",
   "metadata": {},
   "source": [
    "Next, instantiate a new instance of a passenger and a new instance of a driver. Give the passenger a `rating` of `4.9` and give the driver a `miles_driven` attribute of `100,000`."
   ]
  },
  {
   "cell_type": "code",
   "execution_count": 30,
   "metadata": {},
   "outputs": [],
   "source": [
    "driver = Driver() # assign a driver instance\n",
    "# give the driver instance object 'miles_driven' of 100000\n",
    "driver.miles_driven = 100000\n",
    "\n",
    "passenger = Passenger() # assign the passenger instance\n",
    "# give the passenger instance object a 'rating' of 4.9\n",
    "passenger.rating = 4.9"
   ]
  },
  {
   "cell_type": "markdown",
   "metadata": {},
   "source": [
    "Your next challenge is to build a function to find a driver with a given name. The function should take two inputs: drivers and search_name. Drivers will be a list of driver objects (instances of the class you defined above) and search_name will be a string for the driver name you wish to search from. The function should then return the first driver object from drivers whose name is an exact match to the search name. If there is no driver that matches the name searched for, then the function should return `None` and print a string stating \"Sorry we couldn't find a driver with the name, ____! :\\(\" For example, if there were no results for the search name \"Jack\" your function should return None and print:\n",
    "\n",
    "```python\n",
    "\"Sorry we couldn't find a driver with the name, Jack! :(\"\n",
    "```"
   ]
  },
  {
   "cell_type": "code",
   "execution_count": 47,
   "metadata": {},
   "outputs": [],
   "source": [
    "#Their code:\n",
    "def find_driver_by_name(drivers, name):\n",
    "    # write your code here\n",
    "    for driver in drivers:\n",
    "        if driver.name  == name:\n",
    "            return driver\n",
    "    print(\"Sorry we couldn't find a driver with the name, {}! :(\".format(name))\n",
    "    return None"
   ]
  },
  {
   "cell_type": "code",
   "execution_count": 48,
   "metadata": {},
   "outputs": [],
   "source": [
    "alex_driver = Driver()\n",
    "alex_driver.name = \"alex\"\n",
    "alex_driver.rating = 9.0\n",
    "\n",
    "michelle_driver = Driver()\n",
    "michelle_driver.name = \"michelle\"\n",
    "michelle_driver.rating = 8.0\n",
    "\n",
    "jake_driver = Driver()\n",
    "jake_driver.name = \"jake\"\n",
    "jake_driver.rating = 9.7\n",
    "\n",
    "ashleigh_driver = Driver()\n",
    "ashleigh_driver.name = \"ashleigh\"\n",
    "ashleigh_driver.rating = 8.75\n",
    "\n",
    "list_of_drivers = [alex_driver, michelle_driver, jake_driver, ashleigh_driver]"
   ]
  },
  {
   "cell_type": "markdown",
   "metadata": {},
   "source": [
    "To test your function, here's some arbitrary definitions to create instances of your Driver class. Run the cells below. "
   ]
  },
  {
   "cell_type": "code",
   "execution_count": 49,
   "metadata": {},
   "outputs": [
    {
     "data": {
      "text/plain": [
       "<__main__.Driver at 0x105096390>"
      ]
     },
     "execution_count": 49,
     "metadata": {},
     "output_type": "execute_result"
    }
   ],
   "source": [
    "output = find_driver_by_name(list_of_drivers, \"jake\")\n",
    "output"
   ]
  },
  {
   "cell_type": "code",
   "execution_count": 50,
   "metadata": {},
   "outputs": [
    {
     "data": {
      "text/plain": [
       "<__main__.Driver at 0x1050962e8>"
      ]
     },
     "execution_count": 50,
     "metadata": {},
     "output_type": "execute_result"
    }
   ],
   "source": [
    "output = find_driver_by_name(list_of_drivers, \"michelle\")\n",
    "output"
   ]
  },
  {
   "cell_type": "code",
   "execution_count": 51,
   "metadata": {},
   "outputs": [
    {
     "name": "stdout",
     "output_type": "stream",
     "text": [
      "Sorry we couldn't find a driver with the name, allison! :(\n"
     ]
    }
   ],
   "source": [
    "output = find_driver_by_name(list_of_drivers, \"allison\")\n",
    "output"
   ]
  },
  {
   "cell_type": "markdown",
   "metadata": {},
   "source": [
    "If you've correctly coded the find driver by name function, then the first two calls should have returned Driver objects, while the third should have printed the apology statement and returned `None`. (You can further inspect the final output to verify this using the type() method which should reveal that the output is indeed a `Nonetype`; a plain call to output as written above returns nothing.\n",
    "\n",
    "\n",
    "While perhaps moderately useful, the function as written is rather brittle. Misspelling a driver's name will lead to no results. As such, write a more general method called `name_starts_with()` that will return a list of instance objects that start with a given substring. For example, you could pass the function a substring 'a' to return all drivers whose name begins with a."
   ]
  },
  {
   "cell_type": "code",
   "execution_count": 52,
   "metadata": {},
   "outputs": [],
   "source": [
    "# write your method here that returns the list of drivers whose name starts which the given substring\n",
    "def name_starts_with(drivers, substring):\n",
    "    starts_with_a = []\n",
    "    for driver in drivers:\n",
    "        if substring in driver.name:\n",
    "            starts_with_a.append(driver)\n",
    "    \n",
    "    return starts_with_a"
   ]
  },
  {
   "cell_type": "code",
   "execution_count": 53,
   "metadata": {},
   "outputs": [
    {
     "data": {
      "text/plain": [
       "[]"
      ]
     },
     "execution_count": 53,
     "metadata": {},
     "output_type": "execute_result"
    }
   ],
   "source": [
    "jack = name_starts_with(list_of_drivers, \"jack\")\n",
    "jack"
   ]
  },
  {
   "cell_type": "markdown",
   "metadata": {},
   "source": [
    "Finally, define a method that returns the driver with the highest rating."
   ]
  },
  {
   "cell_type": "code",
   "execution_count": 54,
   "metadata": {},
   "outputs": [],
   "source": [
    "# write your method here that returns the driver with the highest rating\n",
    "def highest_rated_driver(drivers):\n",
    "    highest_rating = drivers[0].rating\n",
    "    best_driver = drivers[0]\n",
    "    \n",
    "    for driver in drivers:\n",
    "        if driver.rating > highest_rating:\n",
    "            best_driver = driver\n",
    "            highest_rating = driver.rating\n",
    "    \n",
    "    return best_driver"
   ]
  },
  {
   "cell_type": "code",
   "execution_count": 55,
   "metadata": {},
   "outputs": [
    {
     "name": "stdout",
     "output_type": "stream",
     "text": [
      "<__main__.Driver object at 0x105096390>\n"
     ]
    }
   ],
   "source": [
    "print(highest_rated_driver(list_of_drivers))"
   ]
  },
  {
   "cell_type": "markdown",
   "metadata": {},
   "source": [
    "## Bonus"
   ]
  },
  {
   "cell_type": "markdown",
   "metadata": {},
   "source": [
    "Define a `NewDriver` class with an instance method called, `passenger_names`. Then, instantiate a new instance of the NewDriver class called `best_driver` that has the attributes `name`, `car_make`, `car_model`, `age`, and `passengers`. The `passengers` attribute will point to the list of passenger instances, which is provided below as `list_of_passengers`:"
   ]
  },
  {
   "cell_type": "code",
   "execution_count": 56,
   "metadata": {},
   "outputs": [],
   "source": [
    "# Your code here!\n",
    "class NewDriver:\n",
    "    \n",
    "    def passenger_names(self):\n",
    "        names = []\n",
    "        for passenger in self.passengers:\n",
    "            names.append(passenger.name)\n",
    "        return names"
   ]
  },
  {
   "cell_type": "code",
   "execution_count": 59,
   "metadata": {},
   "outputs": [],
   "source": [
    "ali_passenger = Passenger()\n",
    "ali_passenger.name = \"ali\"\n",
    "mike_passenger = Passenger()\n",
    "mike_passenger.name = \"mike\"\n",
    "jenni_passenger = Passenger()\n",
    "jenni_passenger.name = \"jenny\"\n",
    "aston_passenger = Passenger()\n",
    "aston_passenger.name = \"aston\"\n",
    "list_of_passengers =  [ali_passenger, mike_passenger, jenni_passenger, aston_passenger]"
   ]
  },
  {
   "cell_type": "code",
   "execution_count": 60,
   "metadata": {},
   "outputs": [],
   "source": [
    "best_driver = NewDriver() # instantiate a NewDriver instance object\n",
    "# add the name attribute and assign it 'Garol'\n",
    "best_driver.name = \"Garol\"\n",
    "# add the car_make attribute and assign it 'toyota'\n",
    "best_driver.car_make = 'toyota'\n",
    "# add the car_model attribute and assign it 'camry'\n",
    "best_driver.car_model = 'camry'\n",
    "# add the age attribute and assign it '30'\n",
    "best_driver.age = 30\n",
    "# add the passengers attribute and assign it to the list_of_passengers\n",
    "best_driver.passengers = list_of_passengers"
   ]
  },
  {
   "cell_type": "markdown",
   "metadata": {},
   "source": [
    "Alright, great! Now you have some attributes on the driver that you can work with. Create an instance method in the NewDriver class called `passenger_names` which returns a list of all the passengers' names/\n",
    "Your output should look like `['alex', 'michelle', 'jake', 'ashleigh']`."
   ]
  },
  {
   "cell_type": "code",
   "execution_count": 61,
   "metadata": {},
   "outputs": [
    {
     "name": "stdout",
     "output_type": "stream",
     "text": [
      "['ali', 'mike', 'jenny', 'aston']\n"
     ]
    }
   ],
   "source": [
    "names_of_passengers = best_driver.passenger_names() # assign the return of best_driver.passenger_names()\n",
    "\n",
    "print(names_of_passengers)"
   ]
  },
  {
   "cell_type": "markdown",
   "metadata": {},
   "source": [
    "If you would like to see a more formatted list, try calling the method below on the best_driver instance:"
   ]
  },
  {
   "cell_type": "code",
   "execution_count": 62,
   "metadata": {},
   "outputs": [
    {
     "name": "stdout",
     "output_type": "stream",
     "text": [
      "1. ali\n",
      "2. mike\n",
      "3. jenny\n",
      "4. aston\n"
     ]
    }
   ],
   "source": [
    "def display_names():\n",
    "    i = 1\n",
    "    for name in best_driver.passenger_names():\n",
    "        print(\"{}. {}\".format(i, name))\n",
    "        i += 1\n",
    "\n",
    "# call display_names to see a formatted list of names\n",
    "display_names()"
   ]
  },
  {
   "cell_type": "markdown",
   "metadata": {},
   "source": [
    "Neat -- great work! "
   ]
  },
  {
   "cell_type": "markdown",
   "metadata": {},
   "source": [
    "## Summary"
   ]
  },
  {
   "cell_type": "markdown",
   "metadata": {},
   "source": [
    "In this lab, you practiced creating instance variables that add information to our instance objects. You then used these instance methods to return information about the instances themselves."
   ]
  }
 ],
 "metadata": {
  "kernelspec": {
   "display_name": "learn-env",
   "language": "python",
   "name": "learn-env"
  },
  "language_info": {
   "codemirror_mode": {
    "name": "ipython",
    "version": 3
   },
   "file_extension": ".py",
   "mimetype": "text/x-python",
   "name": "python",
   "nbconvert_exporter": "python",
   "pygments_lexer": "ipython3",
   "version": "3.6.6"
  }
 },
 "nbformat": 4,
 "nbformat_minor": 2
}
